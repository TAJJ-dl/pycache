{
 "cells": [
  {
   "cell_type": "code",
   "execution_count": null,
   "metadata": {},
   "outputs": [],
   "source": [
    "import pandas as pd\n",
    "import numpy as np\n",
    "import matplotlib.pyplot as plt\n",
    "import seaborn as sns"
   ]
  },
  {
   "cell_type": "code",
   "execution_count": null,
   "metadata": {},
   "outputs": [],
   "source": [
    "df = pd.read_csv(\"D://College_Stuff//DSML Lab//Practtical//Datasets//Titanic.csv\")\n",
    "df.head()\n",
    "df.isnull().sum()"
   ]
  },
  {
   "cell_type": "code",
   "execution_count": null,
   "metadata": {},
   "outputs": [],
   "source": [
    "df.drop(columns='Cabin',inplace=True)\n",
    "df['Age'] = df['Age'].fillna(df['Age'].mean())\n",
    "df['Age'].isnull().sum()"
   ]
  },
  {
   "cell_type": "code",
   "execution_count": null,
   "metadata": {},
   "outputs": [],
   "source": [
    "columns = df.columns.to_list()\n",
    "print(columns)\n",
    "df.dtypes"
   ]
  },
  {
   "cell_type": "code",
   "execution_count": null,
   "metadata": {},
   "outputs": [],
   "source": [
    "numeric_df = df.select_dtypes(include=['number'])\n",
    "numeric_df=numeric_df.drop(columns='PassengerId')\n",
    "sns.heatmap(data=numeric_df.corr(),annot=True)"
   ]
  },
  {
   "cell_type": "code",
   "execution_count": null,
   "metadata": {},
   "outputs": [],
   "source": [
    "temp = numeric_df.groupby(by=\"Pclass\")['Survived'].sum().reset_index()\n",
    "temp.columns = ['Pclass','Survived']\n",
    "total_df = df.groupby(by='Pclass')['PassengerId'].count().reset_index()\n",
    "total_df.columns = ['Pclass','total']\n",
    "temp['total'] = total_df['total']\n",
    "temp['rate'] = temp['Survived']/temp['total']\n",
    "print(temp)\n",
    "sns.barplot(data=temp,x='Pclass',y='Survived')\n",
    "plt.show()\n",
    "sns.barplot(data=temp,x='Pclass',y='rate')\n",
    "plt.show()"
   ]
  },
  {
   "cell_type": "code",
   "execution_count": null,
   "metadata": {},
   "outputs": [],
   "source": [
    "sns.histplot(data=numeric_df,x='Age')\n",
    "plt.show()"
   ]
  },
  {
   "cell_type": "code",
   "execution_count": null,
   "metadata": {},
   "outputs": [],
   "source": [
    "age_df = numeric_df.groupby(by='Age')['Survived'].sum().reset_index()\n",
    "age_df.columns = ['Age','Survived']\n",
    "print(age_df)\n",
    "sns.histplot(data=age_df,x='Age')\n",
    "plt.plot()"
   ]
  },
  {
   "cell_type": "code",
   "execution_count": null,
   "metadata": {},
   "outputs": [],
   "source": []
  }
 ],
 "metadata": {
  "kernelspec": {
   "display_name": "Python 3",
   "language": "python",
   "name": "python3"
  },
  "language_info": {
   "codemirror_mode": {
    "name": "ipython",
    "version": 3
   },
   "file_extension": ".py",
   "mimetype": "text/x-python",
   "name": "python",
   "nbconvert_exporter": "python",
   "pygments_lexer": "ipython3",
   "version": "3.12.0"
  }
 },
 "nbformat": 4,
 "nbformat_minor": 2
}
