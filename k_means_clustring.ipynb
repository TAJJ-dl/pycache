{
 "cells": [
  {
   "cell_type": "code",
   "execution_count": null,
   "metadata": {},
   "outputs": [],
   "source": [
    "points = [[0.1,0.6],[0.15,0.71],[0.08,0.9],[0.16, 0.85],[0.2,0.3],[0.25,0.5],[0.24,0.1],[0.3,0.2]]\n",
    "c1 = points[0]\n",
    "c2 = points[7]"
   ]
  },
  {
   "cell_type": "code",
   "execution_count": null,
   "metadata": {},
   "outputs": [],
   "source": [
    "def distance(p1,p2):\n",
    "    dist = ((p1[0]-p2[0])**2 + (p1[1]-p2[1])**2)**0.5\n",
    "    return dist"
   ]
  },
  {
   "cell_type": "code",
   "execution_count": null,
   "metadata": {},
   "outputs": [],
   "source": [
    "def apply(points,c1,c2):\n",
    "    prev_belongs_to = [-1 for i in range(len(points))]\n",
    "    while True:\n",
    "        distance_from_c1 = []\n",
    "        distance_from_c2 = []\n",
    "        curr_belongs_to = []\n",
    "        for point in points:\n",
    "            distance_from_c1.append(distance(point,c1))\n",
    "            distance_from_c2.append(distance(point,c2))\n",
    "            if(distance_from_c1[-1]>distance_from_c2[-1]):\n",
    "                curr_belongs_to.append(2)\n",
    "            else:\n",
    "                curr_belongs_to.append(1)\n",
    "        if curr_belongs_to==prev_belongs_to:\n",
    "            break\n",
    "\n",
    "        prev_belongs_to = curr_belongs_to\n",
    "\n",
    "        cluster_1_x = [points[i][0] for i in range(len(points)) if curr_belongs_to[i]==1]\n",
    "        cluster_1_y = [points[i][1] for i in range(len(points)) if curr_belongs_to[i]==1]\n",
    "        cluster_2_x = [points[i][0] for i in range(len(points)) if curr_belongs_to[i]==2]\n",
    "        cluster_2_y = [points[i][1] for i in range(len(points)) if curr_belongs_to[i]==2]\n",
    "\n",
    "        c1_x = sum(cluster_1_x)/len(cluster_1_x)\n",
    "        c1_y = sum(cluster_1_y)/len(cluster_1_y)\n",
    "        c2_x = sum(cluster_2_x)/len(cluster_2_x)\n",
    "        c2_y = sum(cluster_2_y)/len(cluster_2_y)\n",
    "\n",
    "        c1 = [c1_x,c1_y]\n",
    "        c2 = [c2_x,c2_y]\n",
    "\n",
    "    return prev_belongs_to,c1,c2"
   ]
  },
  {
   "cell_type": "code",
   "execution_count": null,
   "metadata": {},
   "outputs": [],
   "source": [
    "belongs_to,c1,c2 = apply(points,c1,c2)\n",
    "print(belongs_to,\" \",c1,\" \",c2)"
   ]
  },
  {
   "cell_type": "code",
   "execution_count": null,
   "metadata": {},
   "outputs": [],
   "source": []
  }
 ],
 "metadata": {
  "kernelspec": {
   "display_name": "Python 3",
   "language": "python",
   "name": "python3"
  },
  "language_info": {
   "codemirror_mode": {
    "name": "ipython",
    "version": 3
   },
   "file_extension": ".py",
   "mimetype": "text/x-python",
   "name": "python",
   "nbconvert_exporter": "python",
   "pygments_lexer": "ipython3",
   "version": "3.12.0"
  }
 },
 "nbformat": 4,
 "nbformat_minor": 2
}
