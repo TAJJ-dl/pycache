{
 "cells": [
  {
   "cell_type": "code",
   "execution_count": 1,
   "metadata": {},
   "outputs": [],
   "source": [
    "import pandas as pd\n",
    "import numpy as np\n",
    "import matplotlib.pyplot as plt\n",
    "import seaborn as sns"
   ]
  },
  {
   "cell_type": "code",
   "execution_count": 2,
   "metadata": {},
   "outputs": [
    {
     "name": "stdout",
     "output_type": "stream",
     "text": [
      "       Age  Income Married Health Class\n",
      "0    Young    High      No   Fair    No\n",
      "1    Young    High      No   Good    No\n",
      "2   Middle    High      No   Fair   Yes\n",
      "3      Old  Medium      No   Fair   Yes\n",
      "4      Old     Low     Yes   Fair   Yes\n",
      "5      Old     Low     Yes   Good    No\n",
      "6   Middle     Low     Yes   Good   Yes\n",
      "7    Young  Medium      No   Fair    No\n",
      "8    Young     Low     Yes   Fair   Yes\n",
      "9      Old  Medium     Yes   Fair   Yes\n",
      "10   Young  Medium     Yes   Good   Yes\n",
      "11  Middle  Medium      No   Good   Yes\n",
      "12  Middle    High     Yes   Fair   Yes\n",
      "13     Old  Medium      No   Good    No\n"
     ]
    }
   ],
   "source": [
    "data = [\n",
    "    [\"Young\", \"High\", \"No\", \"Fair\", \"No\"],\n",
    "    [\"Young\", \"High\", \"No\", \"Good\", \"No\"],\n",
    "    [\"Middle\", \"High\", \"No\", \"Fair\", \"Yes\"],\n",
    "    [\"Old\", \"Medium\", \"No\", \"Fair\", \"Yes\"],\n",
    "    [\"Old\", \"Low\", \"Yes\", \"Fair\", \"Yes\"],\n",
    "    [\"Old\", \"Low\", \"Yes\", \"Good\", \"No\"],\n",
    "    [\"Middle\", \"Low\", \"Yes\", \"Good\", \"Yes\"],\n",
    "    [\"Young\", \"Medium\", \"No\", \"Fair\", \"No\"],\n",
    "    [\"Young\", \"Low\", \"Yes\", \"Fair\", \"Yes\"],\n",
    "    [\"Old\", \"Medium\", \"Yes\", \"Fair\", \"Yes\"],\n",
    "    [\"Young\", \"Medium\", \"Yes\", \"Good\", \"Yes\"],\n",
    "    [\"Middle\", \"Medium\", \"No\", \"Good\", \"Yes\"],\n",
    "    [\"Middle\", \"High\", \"Yes\", \"Fair\", \"Yes\"],\n",
    "    [\"Old\", \"Medium\", \"No\", \"Good\", \"No\"]\n",
    "]\n",
    "columns = [\"Age\", \"Income\", \"Married\", \"Health\", \"Class\"]\n",
    "df = pd.DataFrame(data, columns=columns)\n",
    "print(df)"
   ]
  },
  {
   "cell_type": "code",
   "execution_count": 3,
   "metadata": {},
   "outputs": [],
   "source": [
    "x = columns[1:-1]\n",
    "y = columns[-1]"
   ]
  },
  {
   "cell_type": "code",
   "execution_count": 4,
   "metadata": {},
   "outputs": [],
   "source": [
    "def displayDateframe(feature,value,yes_count,no_count,total_count):\n",
    "    table = pd.DataFrame()\n",
    "    table[feature]=value\n",
    "    table['Yes']=yes_count\n",
    "    table['No']=no_count\n",
    "    table['Total']= total_count\n",
    "\n",
    "    print(table)"
   ]
  },
  {
   "cell_type": "code",
   "execution_count": 9,
   "metadata": {},
   "outputs": [],
   "source": [
    "def calcEntropy(yes,no):\n",
    "    total = yes + no\n",
    "    if total == 0:\n",
    "        return 0\n",
    "    p_yes = yes / total\n",
    "    p_no = no / total\n",
    "    entropy = 0\n",
    "    if p_yes > 0:\n",
    "        entropy -= p_yes * np.log2(p_yes)\n",
    "    if p_no > 0:\n",
    "        entropy -= p_no * np.log2(p_no)\n",
    "    return entropy"
   ]
  },
  {
   "cell_type": "code",
   "execution_count": 10,
   "metadata": {},
   "outputs": [],
   "source": [
    "def calculateGain(feature,values,yes_count,no_count,total_count):\n",
    "    total_yes = sum(yes_count)\n",
    "    total_no = sum(no_count)\n",
    "    total = sum(total_count)\n",
    "    feature_entropy = calcEntropy(total_yes,total_no)\n",
    "    print(f\"Entropy for {feature} : \",feature_entropy)\n",
    "    entropies = []\n",
    "    for i in range(len(values)):\n",
    "        ent = calcEntropy(yes_count[i],no_count[i])\n",
    "        entropies.append(ent)\n",
    "        print(f\"Entropy for {feature}={values[i]} : \",ent)\n",
    "    \n",
    "    info_gain = feature_entropy - sum([entropies[i]*(total_count[i]/total) for i in range(len(values))])\n",
    "    return info_gain"
   ]
  },
  {
   "cell_type": "code",
   "execution_count": 11,
   "metadata": {},
   "outputs": [],
   "source": [
    "def getInfoGain(df,feature,target):\n",
    "    unique_values = df[feature].unique()\n",
    "    values = []\n",
    "    yes_count = []\n",
    "    no_count = []\n",
    "    total_count=[]\n",
    "\n",
    "    for val in unique_values:\n",
    "        temp_df = df[df[feature]==val]\n",
    "        counts = temp_df[target].value_counts()\n",
    "        curr_yes = 0\n",
    "        curr_no = 0\n",
    "        if 'Yes' in counts:\n",
    "            curr_yes=counts.Yes\n",
    "        if 'No' in counts:\n",
    "            curr_no = counts.No\n",
    "        values.append(val)\n",
    "        yes_count.append(curr_yes)\n",
    "        no_count.append(curr_no)\n",
    "\n",
    "    for i in range(len(no_count)):\n",
    "        total_count.append(yes_count[i]+no_count[i])\n",
    "    displayDateframe(feature,values,yes_count,no_count,total_count)\n",
    "    info_gain = calculateGain(feature,values,yes_count,no_count,total_count)\n",
    "    return info_gain"
   ]
  },
  {
   "cell_type": "code",
   "execution_count": 12,
   "metadata": {},
   "outputs": [
    {
     "name": "stdout",
     "output_type": "stream",
     "text": [
      "      Age  Yes  No  Total\n",
      "0   Young    2   3      5\n",
      "1  Middle    4   0      4\n",
      "2     Old    3   2      5\n",
      "Entropy for Age :  0.9402859586706311\n",
      "Entropy for Age=Young :  0.9709505944546686\n",
      "Entropy for Age=Middle :  0.0\n",
      "Entropy for Age=Old :  0.9709505944546686\n",
      "The info gain is :  0.24674981977443933\n"
     ]
    }
   ],
   "source": [
    "info_gain = getInfoGain(df,'Age',y)\n",
    "print(\"The info gain is : \",info_gain)"
   ]
  },
  {
   "cell_type": "code",
   "execution_count": null,
   "metadata": {},
   "outputs": [],
   "source": []
  }
 ],
 "metadata": {
  "kernelspec": {
   "display_name": "Python 3",
   "language": "python",
   "name": "python3"
  },
  "language_info": {
   "codemirror_mode": {
    "name": "ipython",
    "version": 3
   },
   "file_extension": ".py",
   "mimetype": "text/x-python",
   "name": "python",
   "nbconvert_exporter": "python",
   "pygments_lexer": "ipython3",
   "version": "3.12.0"
  }
 },
 "nbformat": 4,
 "nbformat_minor": 2
}
