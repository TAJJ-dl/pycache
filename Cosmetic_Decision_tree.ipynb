{
 "cells": [
  {
   "cell_type": "code",
   "execution_count": null,
   "metadata": {},
   "outputs": [],
   "source": [
    "import pandas as pd"
   ]
  },
  {
   "cell_type": "code",
   "execution_count": null,
   "metadata": {},
   "outputs": [],
   "source": [
    "df = pd.read_csv('D://College_Stuff//DSML Lab//Practtical//Datasets//Lipstick.csv')\n",
    "df.head()"
   ]
  },
  {
   "cell_type": "code",
   "execution_count": null,
   "metadata": {},
   "outputs": [],
   "source": [
    "columns = df.columns.to_list()\n",
    "columns\n",
    "x = columns[1:-1]\n",
    "x\n",
    "y = columns[-1]\n",
    "y"
   ]
  },
  {
   "cell_type": "code",
   "execution_count": null,
   "metadata": {},
   "outputs": [],
   "source": [
    "def displayDateframe(feature,value,yes_count,no_count,total_count):\n",
    "    table = pd.DataFrame()\n",
    "    table[feature]=value\n",
    "    table['Yes']=yes_count\n",
    "    table['No']=no_count\n",
    "    table['Total']= total_count\n",
    "\n",
    "    print(table)"
   ]
  },
  {
   "cell_type": "code",
   "execution_count": null,
   "metadata": {},
   "outputs": [],
   "source": [
    "def calculate(values,yes_count,no_count,total_count):\n",
    "    total_gini = 0\n",
    "    total = sum(total_count)\n",
    "    for idx,val in enumerate(values):\n",
    "        gini_temp = 1 - (yes_count[idx]/total_count[idx])**2 - (no_count[idx]/total_count[idx])**2\n",
    "        print(f\"{val} : {round(gini_temp,2)}\")\n",
    "        total_gini += (gini_temp * (total_count[idx]/total)) \n",
    "    return total_gini"
   ]
  },
  {
   "cell_type": "code",
   "execution_count": null,
   "metadata": {},
   "outputs": [],
   "source": [
    "def calculateGini(df,feature,target):\n",
    "    unique_values = df[feature].unique()\n",
    "    values = []\n",
    "    yes_count = []\n",
    "    no_count = []\n",
    "    total_count=[]\n",
    "\n",
    "    for val in unique_values:\n",
    "        temp_df = df[df[feature]==val]\n",
    "        counts = temp_df[target].value_counts()\n",
    "        curr_yes = 0\n",
    "        curr_no = 0\n",
    "        if 'Yes' in counts:\n",
    "            curr_yes=counts.Yes\n",
    "        if 'No' in counts:\n",
    "            curr_no = counts.No\n",
    "        values.append(val)\n",
    "        yes_count.append(curr_yes)\n",
    "        no_count.append(curr_no)\n",
    "\n",
    "    for i in range(len(no_count)):\n",
    "        total_count.append(yes_count[i]+no_count[i])\n",
    "    displayDateframe(feature,values,yes_count,no_count,total_count)\n",
    "    giniIndex = calculate(values,yes_count,no_count,total_count)\n",
    "    print(f\"Gini index for {feature} : {round(giniIndex,2)}\\n\")\n",
    "    return giniIndex\n",
    "\n"
   ]
  },
  {
   "cell_type": "code",
   "execution_count": null,
   "metadata": {},
   "outputs": [],
   "source": [
    "gini_indices = dict()\n",
    "for feature in x:\n",
    "    giniIndex = calculateGini(df,feature,y)\n",
    "    gini_indices[feature]=giniIndex\n",
    "\n",
    "print(\"The gini indices for each featre are as follows : \")\n",
    "for feature,value in gini_indices.items():\n",
    "    print(f\"Gini index for {feature} : {round(value,2)}\")"
   ]
  },
  {
   "cell_type": "code",
   "execution_count": null,
   "metadata": {},
   "outputs": [],
   "source": [
    "l=sorted(gini_indices.items(), key=lambda item: item[1])\n",
    "print(f\"The root node is : {l[0][0]}\")"
   ]
  },
  {
   "cell_type": "code",
   "execution_count": null,
   "metadata": {},
   "outputs": [],
   "source": [
    "from sklearn.preprocessing import LabelEncoder\n",
    "\n",
    "encoders = {}\n",
    "for column in columns:\n",
    "    le = LabelEncoder()\n",
    "    df[column] = le.fit_transform(df[column])\n",
    "    encoders[column]=le\n",
    "df.head(2)"
   ]
  },
  {
   "cell_type": "code",
   "execution_count": null,
   "metadata": {},
   "outputs": [],
   "source": [
    "x = df[columns[1:-1]]\n",
    "y = df[columns[-1]]"
   ]
  },
  {
   "cell_type": "code",
   "execution_count": null,
   "metadata": {},
   "outputs": [],
   "source": [
    "from sklearn.tree import DecisionTreeClassifier,plot_tree\n",
    "model = DecisionTreeClassifier()\n",
    "model.fit(x,y)"
   ]
  },
  {
   "cell_type": "code",
   "execution_count": null,
   "metadata": {},
   "outputs": [],
   "source": [
    "import matplotlib.pyplot as plt \n",
    "\n",
    "plt.figure(figsize=(12, 8))\n",
    "plot_tree(model, feature_names=columns[1:-1], \n",
    "          class_names=['Yes', 'No'], filled=True)\n",
    "plt.show()"
   ]
  },
  {
   "cell_type": "code",
   "execution_count": null,
   "metadata": {},
   "outputs": [],
   "source": [
    "input_data = {\n",
    "    'Age': ['>35'],\n",
    "    'Income': ['Medium'],\n",
    "    'Gender': ['Female'],\n",
    "    'Ms': ['Married']\n",
    "}\n",
    "input_data = pd.DataFrame(input_data)\n",
    "for column in columns[1:-1]:\n",
    "    le = encoders[column]\n",
    "    input_data[column] = le.transform(input_data[column])\n",
    "temp = model.predict(input_data)\n",
    "temp = temp.astype(int)\n",
    "ans = encoders['Buys'].inverse_transform(temp)\n",
    "print(ans)"
   ]
  }
 ],
 "metadata": {
  "kernelspec": {
   "display_name": "Python 3",
   "language": "python",
   "name": "python3"
  },
  "language_info": {
   "codemirror_mode": {
    "name": "ipython",
    "version": 3
   },
   "file_extension": ".py",
   "mimetype": "text/x-python",
   "name": "python",
   "nbconvert_exporter": "python",
   "pygments_lexer": "ipython3",
   "version": "3.12.0"
  }
 },
 "nbformat": 4,
 "nbformat_minor": 2
}
