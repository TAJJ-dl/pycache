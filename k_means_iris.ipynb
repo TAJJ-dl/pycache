{
 "cells": [
  {
   "cell_type": "code",
   "execution_count": null,
   "metadata": {},
   "outputs": [],
   "source": [
    "import pandas as pd\n",
    "import numpy as np\n",
    "import random"
   ]
  },
  {
   "cell_type": "code",
   "execution_count": null,
   "metadata": {},
   "outputs": [],
   "source": [
    "df = pd.read_csv(\"D://College_Stuff//DSML Lab//Practtical//Datasets//IRIS.csv\")\n",
    "df.head()\n"
   ]
  },
  {
   "cell_type": "code",
   "execution_count": null,
   "metadata": {},
   "outputs": [],
   "source": [
    "sepal_l = np.array(df['sepal_length'])\n",
    "sepal_w = np.array(df['sepal_width'])\n",
    "petal_l = np.array(df['petal_length'])\n",
    "petal_w = np.array(df['petal_width'])\n",
    "\n",
    "points = []\n",
    "for i in range(len(sepal_l)):\n",
    "    points.append([sepal_l[i],sepal_w[i],petal_l[i],petal_w[i]])\n",
    "\n",
    "points[:5]"
   ]
  },
  {
   "cell_type": "code",
   "execution_count": null,
   "metadata": {},
   "outputs": [],
   "source": [
    "def distance(p1,p2):\n",
    "    sum_of_squares = 0\n",
    "    for i in range(len(p1)):\n",
    "        sum_of_squares += (p1[i]-p2[i])**2\n",
    "    dist = (sum_of_squares)**0.5\n",
    "    return dist"
   ]
  },
  {
   "cell_type": "code",
   "execution_count": null,
   "metadata": {},
   "outputs": [],
   "source": [
    "def apply(points,centroids):\n",
    "    prev_belongs_to = [-1 for i in range(len(points))]\n",
    "    counter = 0\n",
    "    while counter<10:\n",
    "        curr_belongs_to = []\n",
    "        for point in points:\n",
    "            distances = [distance(point, centroid) for centroid in centroids]\n",
    "            curr_belongs_to.append(distances.index(min(distances)))\n",
    "\n",
    "        if curr_belongs_to==prev_belongs_to:\n",
    "            break\n",
    "\n",
    "        prev_belongs_to = curr_belongs_to\n",
    "\n",
    "        for i in range(len(centroids)):\n",
    "            cluster_points = [points[idx] for idx in range(len(points)) if curr_belongs_to[idx] == i]\n",
    "            if cluster_points:\n",
    "                for j in range(len(centroids[0])):\n",
    "                    centroids[i][j] = (sum([cluster_points[idx][j] for idx in range(len(cluster_points))])/len(cluster_points))\n",
    "        counter+=1\n",
    "\n",
    "    return prev_belongs_to,centroids"
   ]
  },
  {
   "cell_type": "code",
   "execution_count": null,
   "metadata": {},
   "outputs": [],
   "source": [
    "centroids = []\n",
    "for i in range(4):\n",
    "    idx = random.randint(0,len(points))\n",
    "    centroids.append(points[idx])\n",
    "print(\"Initial \",centroids)\n",
    "belongs_to,centroids_updated=apply(points,centroids)\n",
    "print(\"The updated centroids are as follows : \")\n",
    "for centroid in centroids_updated:\n",
    "    print(centroid)"
   ]
  }
 ],
 "metadata": {
  "kernelspec": {
   "display_name": "Python 3",
   "language": "python",
   "name": "python3"
  },
  "language_info": {
   "codemirror_mode": {
    "name": "ipython",
    "version": 3
   },
   "file_extension": ".py",
   "mimetype": "text/x-python",
   "name": "python",
   "nbconvert_exporter": "python",
   "pygments_lexer": "ipython3",
   "version": "3.12.0"
  }
 },
 "nbformat": 4,
 "nbformat_minor": 2
}
